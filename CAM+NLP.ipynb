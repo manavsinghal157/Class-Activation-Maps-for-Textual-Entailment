{
  "nbformat": 4,
  "nbformat_minor": 0,
  "metadata": {
    "colab": {
      "name": "CAM+NLP.ipynb",
      "version": "0.3.2",
      "provenance": [],
      "collapsed_sections": []
    },
    "kernelspec": {
      "name": "python3",
      "display_name": "Python 3"
    },
    "accelerator": "GPU"
  },
  "cells": [
    {
      "cell_type": "code",
      "metadata": {
        "id": "TbcSJggs6W1G",
        "colab_type": "code",
        "outputId": "210714ce-3d07-4206-80a0-5784a768e9b0",
        "colab": {
          "base_uri": "https://localhost:8080/",
          "height": 225
        }
      },
      "source": [
        "#downloading library\n",
        "!pip install pytorch-nlp"
      ],
      "execution_count": 0,
      "outputs": [
        {
          "output_type": "stream",
          "text": [
            "Requirement already satisfied: pytorch-nlp in /usr/local/lib/python3.6/dist-packages (0.4.1)\n",
            "Requirement already satisfied: numpy in /usr/local/lib/python3.6/dist-packages (from pytorch-nlp) (1.16.4)\n",
            "Requirement already satisfied: tqdm in /usr/local/lib/python3.6/dist-packages (from pytorch-nlp) (4.28.1)\n",
            "Requirement already satisfied: requests in /usr/local/lib/python3.6/dist-packages (from pytorch-nlp) (2.21.0)\n",
            "Requirement already satisfied: pandas in /usr/local/lib/python3.6/dist-packages (from pytorch-nlp) (0.24.2)\n",
            "Requirement already satisfied: certifi>=2017.4.17 in /usr/local/lib/python3.6/dist-packages (from requests->pytorch-nlp) (2019.3.9)\n",
            "Requirement already satisfied: idna<2.9,>=2.5 in /usr/local/lib/python3.6/dist-packages (from requests->pytorch-nlp) (2.8)\n",
            "Requirement already satisfied: urllib3<1.25,>=1.21.1 in /usr/local/lib/python3.6/dist-packages (from requests->pytorch-nlp) (1.24.3)\n",
            "Requirement already satisfied: chardet<3.1.0,>=3.0.2 in /usr/local/lib/python3.6/dist-packages (from requests->pytorch-nlp) (3.0.4)\n",
            "Requirement already satisfied: pytz>=2011k in /usr/local/lib/python3.6/dist-packages (from pandas->pytorch-nlp) (2018.9)\n",
            "Requirement already satisfied: python-dateutil>=2.5.0 in /usr/local/lib/python3.6/dist-packages (from pandas->pytorch-nlp) (2.5.3)\n",
            "Requirement already satisfied: six>=1.5 in /usr/local/lib/python3.6/dist-packages (from python-dateutil>=2.5.0->pandas->pytorch-nlp) (1.12.0)\n"
          ],
          "name": "stdout"
        }
      ]
    },
    {
      "cell_type": "code",
      "metadata": {
        "id": "FLIvXMb26Wt-",
        "colab_type": "code",
        "colab": {}
      },
      "source": [
        "\"\"\"Defining dataset extraction function\"\"\"\n",
        "import os\n",
        "import io\n",
        "\n",
        "import json\n",
        "\n",
        "from torchnlp.download import download_file_maybe_extract\n",
        "from torchnlp.datasets.dataset import Dataset\n",
        "\n",
        "def snli_dataset(directory='data/',\n",
        "                 train=False,\n",
        "                 dev=False,\n",
        "                 test=False,\n",
        "                 train_filename='snli_1.0_train.jsonl',\n",
        "                 dev_filename='snli_1.0_dev.jsonl',\n",
        "                 test_filename='snli_1.0_test.jsonl',\n",
        "                 extracted_name='snli_1.0',\n",
        "                 check_files=['snli_1.0/snli_1.0_train.jsonl'],\n",
        "                 url='http://nlp.stanford.edu/projects/snli/snli_1.0.zip'):\n",
        "    \n",
        "    \"\"\"Load the Stanford Natural Language Inference (SNLI) dataset.\n",
        "\n",
        "    The SNLI corpus (version 1.0) is a collection of 570k human-written English sentence pairs\n",
        "    manually labeled for balanced classification with the labels entailment, contradiction, and\n",
        "    neutral, supporting the task of natural language inference (NLI), also known as recognizing\n",
        "    textual entailment (RTE). We aim for it to serve both as a benchmark for evaluating\n",
        "    representational systems for text, especially including those induced by representation\n",
        "    learning methods, as well as a resource for developing NLP models of any kind.\n",
        "\n",
        "    **Reference:** https://nlp.stanford.edu/projects/snli/\n",
        "\n",
        "    Args:\n",
        "        directory (str, optional): Directory to cache the dataset.\n",
        "        train (bool, optional): If to load the training split of the dataset.\n",
        "        dev (bool, optional): If to load the development split of the dataset.\n",
        "        test (bool, optional): If to load the test split of the dataset.\n",
        "        train_filename (str, optional): The filename of the training split.\n",
        "        dev_filename (str, optional): The filename of the development split.\n",
        "        test_filename (str, optional): The filename of the test split.\n",
        "        extracted_name (str, optional): Name of the extracted dataset directory.\n",
        "        check_files (str, optional): Check if these files exist, then this download was successful.\n",
        "        url (str, optional): URL of the dataset `tar.gz` file.\n",
        "\n",
        "    Returns:\n",
        "        :class:`tuple` of :class:`torchnlp.datasets.Dataset` or :class:`torchnlp.datasets.Dataset`:\n",
        "        Returns between one and all dataset splits (train, dev and test) depending on if their\n",
        "        respective boolean argument is ``True``.\n",
        "\n",
        "        }\n",
        "    \"\"\"\n",
        "    download_file_maybe_extract(url=url, directory=directory, check_files=check_files)\n",
        "    ret = []\n",
        "    splits = [(train, train_filename), (dev, dev_filename), (test, test_filename)]\n",
        "    splits = [f for (requested, f) in splits if requested]\n",
        "    for filename in splits:\n",
        "        full_path = os.path.join(directory, extracted_name, filename)\n",
        "        examples = []\n",
        "        with io.open(full_path, encoding='utf-8') as f:\n",
        "            for line in f:\n",
        "                line = line.strip()\n",
        "                line = json.loads(line)\n",
        "                examples.append({\n",
        "                    'premise': line['sentence1'],\n",
        "                    'hypothesis': line['sentence2'],\n",
        "                    'label': line['gold_label']\n",
        "                })\n",
        "        ret.append(Dataset(examples))\n",
        "\n",
        "    if len(ret) == 1:\n",
        "        return ret[0]\n",
        "    else:\n",
        "        return tuple(ret)"
      ],
      "execution_count": 0,
      "outputs": []
    },
    {
      "cell_type": "code",
      "metadata": {
        "id": "xBtcHofq6W8z",
        "colab_type": "code",
        "outputId": "e634c880-0f47-4029-9482-52e1f3693fe7",
        "colab": {
          "base_uri": "https://localhost:8080/",
          "height": 69
        }
      },
      "source": [
        "#Obtaining dataset\n",
        "train=snli_dataset(train=True) "
      ],
      "execution_count": 0,
      "outputs": [
        {
          "output_type": "execute_result",
          "data": {
            "text/plain": [
              "{'hypothesis': 'A team is trying to tag a runner out.',\n",
              " 'label': 'entailment',\n",
              " 'premise': 'A Little League team tries to catch a runner sliding into a base in an afternoon game.'}"
            ]
          },
          "metadata": {
            "tags": []
          },
          "execution_count": 84
        }
      ]
    },
    {
      "cell_type": "code",
      "metadata": {
        "id": "r0aHPcV1U3Yz",
        "colab_type": "code",
        "outputId": "1d4e4f71-330c-4fb5-8ae0-7efab28cb7d1",
        "colab": {
          "base_uri": "https://localhost:8080/",
          "height": 69
        }
      },
      "source": [
        "#viewing training examples\n",
        "train[36] "
      ],
      "execution_count": 0,
      "outputs": [
        {
          "output_type": "execute_result",
          "data": {
            "text/plain": [
              "{'hypothesis': 'The women do not care what clothes they wear.',\n",
              " 'label': 'contradiction',\n",
              " 'premise': 'High fashion ladies wait outside a tram beside a crowd of people in the city.'}"
            ]
          },
          "metadata": {
            "tags": []
          },
          "execution_count": 122
        }
      ]
    },
    {
      "cell_type": "code",
      "metadata": {
        "id": "syFrI3NjdcF0",
        "colab_type": "code",
        "colab": {}
      },
      "source": [
        "\"\"\"Importing required libraries\"\"\"\n",
        "import os\n",
        "import sys\n",
        "import torch\n",
        "import numpy as np\n",
        "from PIL import Image\n",
        "import torch.nn as nn\n",
        "from torch.autograd import Variable\n",
        "from torch.nn import functional as F\n",
        "from torch.nn.modules.padding import ConstantPad1d\n",
        "from torch import topk \n",
        "from torchtext import data\n",
        "from torchtext import datasets\n",
        "from torchtext.vocab import Vectors, GloVe\n",
        "# %matplotlib inline\n",
        "from matplotlib.pyplot import imshow\n",
        "from torchvision import models, transforms\n",
        "import skimage.transform"
      ],
      "execution_count": 0,
      "outputs": []
    },
    {
      "cell_type": "code",
      "metadata": {
        "id": "s0LR08AocSa7",
        "colab_type": "code",
        "colab": {}
      },
      "source": [
        "\"\"\"Defining class CNN consisting of the model architecture to be used\"\"\"\n",
        "class CNN(nn.Module):\n",
        "    def __init__(self,vocab_size,embedding_length,weights):\n",
        "        super(CNN, self).__init__()\n",
        "        self.word_embeddings=nn.Embedding(vocab_size,embedding_length)\n",
        "        self.word_embeddings.weight=nn.Parameter(weights,requires_grad=False)\n",
        "        self.conv1 = nn.Conv2d(in_channels=1, out_channels=50, kernel_size=10, stride=2)\n",
        "        self.pool = nn.AvgPool2d(kernel_size=1, stride=2)\n",
        "        self.conv2 = nn.Conv2d(in_channels=50, out_channels=100, kernel_size=5, stride=2)\n",
        "        self.AdapAvgPool=nn.AdaptiveAvgPool2d(((1,1)))\n",
        "        self.fc1 = nn.Linear(in_features=100, out_features=3)\n",
        "        \n",
        "    def forward(self,input_sentences):\n",
        "        x=self.word_embeddings(input_sentences)\n",
        "        x=x.unsqueeze(1)\n",
        "        x = self.pool(F.relu(self.conv1(x)))\n",
        "        x =self.AdapAvgPool((F.relu(self.conv2(x))))\n",
        "        x = x.view(-1, 1*1*100)\n",
        "        x = self.fc1(x)\n",
        "        return x"
      ],
      "execution_count": 0,
      "outputs": []
    },
    {
      "cell_type": "code",
      "metadata": {
        "id": "14ytYJISdl2G",
        "colab_type": "code",
        "colab": {}
      },
      "source": [
        "\"\"\"Function to load training and test dataset as iterators\"\"\"\n",
        "def load_dataset(test_sen=None):\n",
        "  tokenize=lambda x:x.split()\n",
        "  Text=data.Field(sequential=True,tokenize=tokenize, lower=True, include_lengths=True,batch_first=True,fix_length=50)\n",
        "  label=data.LabelField()\n",
        "  train_data,valid_data,test_data=datasets.SNLI.splits(Text,label)\n",
        "  Text.build_vocab(train_data,vectors=GloVe(name='6B',dim=100))\n",
        "  label.build_vocab(train_data)\n",
        "  \n",
        "  word_embeddings=Text.vocab.vectors\n",
        "  print(\"Length of text vocab\"+str(len(Text.vocab)))\n",
        "  print(\"Vector size of text vocab\",Text.vocab.vectors.size())\n",
        "  print(\"Label Length:\"+str(len(label.vocab)))\n",
        "  \n",
        "  #train_data,valid_data=train_data.split()\n",
        "  train_iter,valid_iter,test_iter=data.BucketIterator.splits((train_data,valid_data,test_data),batch_size=32,sort_key=lambda x:len(x.premise),repeat=False,shuffle=True)\n",
        "  \n",
        "  \n",
        "  vocab_size=len(Text.vocab)\n",
        "  \n",
        "  return Text,vocab_size,word_embeddings,train_iter,valid_iter,test_iter"
      ],
      "execution_count": 0,
      "outputs": []
    },
    {
      "cell_type": "code",
      "metadata": {
        "id": "EVUw2Giedl5z",
        "colab_type": "code",
        "outputId": "07873bba-123c-4bc3-b793-52d825a3e7c9",
        "colab": {
          "base_uri": "https://localhost:8080/",
          "height": 139
        }
      },
      "source": [
        "\"\"\"Loading dataset into variables\"\"\"\n",
        "TEXT, vocab_size, word_embeddings, train_iter, valid_iter,test_iter = load_dataset()"
      ],
      "execution_count": 0,
      "outputs": [
        {
          "output_type": "stream",
          "text": [
            "downloading snli_1.0.zip\n"
          ],
          "name": "stdout"
        },
        {
          "output_type": "stream",
          "text": [
            "snli_1.0.zip: 100%|██████████| 94.6M/94.6M [00:19<00:00, 2.65MB/s]\n"
          ],
          "name": "stderr"
        },
        {
          "output_type": "stream",
          "text": [
            "extracting\n"
          ],
          "name": "stdout"
        },
        {
          "output_type": "stream",
          "text": [
            ".vector_cache/glove.6B.zip: 862MB [00:24, 35.0MB/s]                           \n",
            "100%|█████████▉| 399454/400000 [00:16<00:00, 25212.34it/s]"
          ],
          "name": "stderr"
        },
        {
          "output_type": "stream",
          "text": [
            "Length of text vocab56220\n",
            "Vector size of text vocab torch.Size([56220, 100])\n",
            "Label Length:3\n"
          ],
          "name": "stdout"
        }
      ]
    },
    {
      "cell_type": "code",
      "metadata": {
        "id": "2fNVe1eWzhZy",
        "colab_type": "code",
        "colab": {}
      },
      "source": [
        "def clip_gradient(model,clip_value):\n",
        "  params=list(filter(lambda p: p.grad is not None, model.parameters()))\n",
        "  for p in params:\n",
        "    p.grad.data.clamp(-clip_value,clip_value)"
      ],
      "execution_count": 0,
      "outputs": []
    },
    {
      "cell_type": "code",
      "metadata": {
        "id": "VwYBOGe3siPi",
        "colab_type": "code",
        "colab": {}
      },
      "source": [
        "\"\"\"Function to train our model and output the accuracy\"\"\"\n",
        "def train_model(model,train_iter,epoch):\n",
        "  total_epoch_loss=0\n",
        "  total_epoch_acc=0\n",
        "\n",
        "  model.cuda()\n",
        "  optim=torch.optim.Adam(filter(lambda p: p.requires_grad, model.parameters()))\n",
        "  steps=0\n",
        "  model.train()\n",
        "  for idx,batch in enumerate(train_iter):\n",
        "    premise=batch.premise[0]\n",
        "    hypothesis=batch.hypothesis[0]\n",
        "    target=batch.label\n",
        "    target=torch.autograd.Variable(target).long()\n",
        "    if torch.cuda.is_available():\n",
        "      premise=premise.cuda()\n",
        "      hypothesis=hypothesis.cuda()\n",
        "      target=target.cuda()   \n",
        "#if (premise.size()[0] is not 50 or hypothesis.size()[0] is not 50):continue\n",
        "    optim.zero_grad()\n",
        "    joint=torch.cat([premise,hypothesis],1)\n",
        "    prediction=model(joint)\n",
        "    loss=loss_fn(prediction,target)\n",
        "    num_corrects=(torch.max(prediction,1)[1].view(target.size()).data==target.data).float().sum()\n",
        "    acc=100.0*num_corrects/len(batch)\n",
        "    loss.backward()\n",
        "    clip_gradient(model,1e-1)\n",
        "    optim.step()\n",
        "    steps+=1\n",
        "    if steps%5000==0:\n",
        "      print(f'Epoch: {epoch+1}, Idx: {idx+1}, Training Loss: {loss.item(): .4f}, Training Accuracy: {acc.item(): .2f}%')\n",
        "    total_epoch_loss+=loss.item()\n",
        "    total_epoch_acc+=acc.item()\n",
        "  return total_epoch_loss/len(train_iter),total_epoch_acc/len(train_iter)\n",
        "\n"
      ],
      "execution_count": 0,
      "outputs": []
    },
    {
      "cell_type": "code",
      "metadata": {
        "id": "kOg5j5jdsiWp",
        "colab_type": "code",
        "colab": {}
      },
      "source": [
        "\"\"\"Function to evaluate our test set using our model and thus output the accuracy\"\"\"\n",
        "def eval_model(model, val_iter):\n",
        "  total_epoch_loss = 0\n",
        "  total_epoch_acc = 0\n",
        "  model.eval()\n",
        "  with torch.no_grad():\n",
        "      for idx, batch in enumerate(val_iter):\n",
        "          premise=batch.premise[0]\n",
        "          hypothesis=batch.hypothesis[0]\n",
        "          if (premise.size()[0] is not 32 or hypothesis.size()[0] is not 32):\n",
        "            continue\n",
        "          target = batch.label\n",
        "          target = torch.autograd.Variable(target).long()\n",
        "          if torch.cuda.is_available():\n",
        "              premise=premise.cuda()\n",
        "              hypothesis=hypothesis.cuda()\n",
        "              target = target.cuda()\n",
        "          joint=torch.cat([premise,hypothesis],1)\n",
        "          prediction=model(joint)\n",
        "          loss = loss_fn(prediction, target)\n",
        "          num_corrects = (torch.max(prediction, 1)[1].view(target.size()).data == target.data).sum()\n",
        "          acc = 100.0 * num_corrects/len(batch)\n",
        "          total_epoch_loss += loss.item()\n",
        "          total_epoch_acc += acc.item()\n",
        "  return total_epoch_loss/len(val_iter),total_epoch_acc/len(val_iter)"
      ],
      "execution_count": 0,
      "outputs": []
    },
    {
      "cell_type": "code",
      "metadata": {
        "id": "mc_IsG3w9CVp",
        "colab_type": "code",
        "colab": {}
      },
      "source": [
        "\"\"\"Saving our model into a variable and defining our loss function\"\"\"\n",
        "model=CNN(vocab_size=56220,embedding_length=100,weights=word_embeddings)\n",
        "loss_fn=F.cross_entropy"
      ],
      "execution_count": 0,
      "outputs": []
    },
    {
      "cell_type": "code",
      "metadata": {
        "id": "bedzgKHpsvJW",
        "colab_type": "code",
        "outputId": "44dd011d-7e29-4c61-988f-320f82ddf4f6",
        "colab": {
          "base_uri": "https://localhost:8080/",
          "height": 2813
        }
      },
      "source": [
        "\"\"\"Running our training for X epochs and outputing test accuracy\"\"\"\n",
        "for epoch in range(40):\n",
        "  train_loss,train_acc=train_model(model,train_iter, epoch)\n",
        "  val_loss,val_acc=eval_model(model,valid_iter)\n",
        "  print(f'Epoch:{epoch+1:02},Train Loss:{train_loss:.3f},Train Acc:{train_acc:.2f}%,Val.Loss:{val_loss:3f},Val.Acc:{val_acc:.2f}%')\n",
        "test_loss,test_acc=eval_model(model,test_iter)\n",
        "print(f'Test Loss:{test_loss:.3f}, Test Acc: {test_acc:.2f}%')"
      ],
      "execution_count": 0,
      "outputs": [
        {
          "output_type": "stream",
          "text": [
            "Epoch: 1, Idx: 5000, Training Loss:  0.9385, Training Accuracy:  62.50%\n",
            "Epoch: 1, Idx: 10000, Training Loss:  0.9065, Training Accuracy:  53.12%\n",
            "Epoch: 1, Idx: 15000, Training Loss:  0.9735, Training Accuracy:  50.00%\n",
            "Epoch:01,Train Loss:0.974,Train Acc:52.35%,Val.Loss:0.929620,Val.Acc:55.20%\n",
            "Epoch: 2, Idx: 5000, Training Loss:  0.8988, Training Accuracy:  65.62%\n",
            "Epoch: 2, Idx: 10000, Training Loss:  0.9410, Training Accuracy:  53.12%\n",
            "Epoch: 2, Idx: 15000, Training Loss:  0.8425, Training Accuracy:  56.25%\n",
            "Epoch:02,Train Loss:0.929,Train Acc:55.85%,Val.Loss:0.913131,Val.Acc:56.37%\n",
            "Epoch: 3, Idx: 5000, Training Loss:  0.9418, Training Accuracy:  50.00%\n",
            "Epoch: 3, Idx: 10000, Training Loss:  0.9478, Training Accuracy:  53.12%\n",
            "Epoch: 3, Idx: 15000, Training Loss:  0.8961, Training Accuracy:  56.25%\n",
            "Epoch:03,Train Loss:0.912,Train Acc:56.99%,Val.Loss:0.892832,Val.Acc:57.91%\n",
            "Epoch: 4, Idx: 5000, Training Loss:  0.8263, Training Accuracy:  59.38%\n",
            "Epoch: 4, Idx: 10000, Training Loss:  1.0725, Training Accuracy:  46.88%\n",
            "Epoch: 4, Idx: 15000, Training Loss:  0.9462, Training Accuracy:  59.38%\n",
            "Epoch:04,Train Loss:0.899,Train Acc:57.89%,Val.Loss:0.889760,Val.Acc:57.70%\n",
            "Epoch: 5, Idx: 5000, Training Loss:  0.9988, Training Accuracy:  46.88%\n",
            "Epoch: 5, Idx: 10000, Training Loss:  0.9791, Training Accuracy:  40.62%\n",
            "Epoch: 5, Idx: 15000, Training Loss:  0.9026, Training Accuracy:  62.50%\n",
            "Epoch:05,Train Loss:0.888,Train Acc:58.57%,Val.Loss:0.883568,Val.Acc:57.97%\n",
            "Epoch: 6, Idx: 5000, Training Loss:  0.8916, Training Accuracy:  62.50%\n",
            "Epoch: 6, Idx: 10000, Training Loss:  0.9112, Training Accuracy:  59.38%\n",
            "Epoch: 6, Idx: 15000, Training Loss:  0.8103, Training Accuracy:  59.38%\n",
            "Epoch:06,Train Loss:0.879,Train Acc:59.15%,Val.Loss:0.890696,Val.Acc:57.81%\n",
            "Epoch: 7, Idx: 5000, Training Loss:  0.9708, Training Accuracy:  56.25%\n",
            "Epoch: 7, Idx: 10000, Training Loss:  0.8017, Training Accuracy:  62.50%\n",
            "Epoch: 7, Idx: 15000, Training Loss:  0.9224, Training Accuracy:  59.38%\n",
            "Epoch:07,Train Loss:0.872,Train Acc:59.67%,Val.Loss:0.872886,Val.Acc:58.60%\n",
            "Epoch: 8, Idx: 5000, Training Loss:  0.9256, Training Accuracy:  59.38%\n",
            "Epoch: 8, Idx: 10000, Training Loss:  0.7771, Training Accuracy:  50.00%\n",
            "Epoch: 8, Idx: 15000, Training Loss:  0.8124, Training Accuracy:  71.88%\n",
            "Epoch:08,Train Loss:0.864,Train Acc:60.22%,Val.Loss:0.876070,Val.Acc:58.79%\n",
            "Epoch: 9, Idx: 5000, Training Loss:  0.9249, Training Accuracy:  53.12%\n",
            "Epoch: 9, Idx: 10000, Training Loss:  1.0337, Training Accuracy:  46.88%\n",
            "Epoch: 9, Idx: 15000, Training Loss:  0.8366, Training Accuracy:  62.50%\n",
            "Epoch:09,Train Loss:0.858,Train Acc:60.57%,Val.Loss:0.875842,Val.Acc:58.89%\n",
            "Epoch: 10, Idx: 5000, Training Loss:  0.9199, Training Accuracy:  56.25%\n",
            "Epoch: 10, Idx: 10000, Training Loss:  0.8983, Training Accuracy:  59.38%\n",
            "Epoch: 10, Idx: 15000, Training Loss:  0.7894, Training Accuracy:  71.88%\n",
            "Epoch:10,Train Loss:0.852,Train Acc:60.94%,Val.Loss:0.875774,Val.Acc:58.77%\n",
            "Epoch: 11, Idx: 5000, Training Loss:  0.9466, Training Accuracy:  50.00%\n",
            "Epoch: 11, Idx: 10000, Training Loss:  0.8151, Training Accuracy:  62.50%\n",
            "Epoch: 11, Idx: 15000, Training Loss:  0.8886, Training Accuracy:  56.25%\n",
            "Epoch:11,Train Loss:0.847,Train Acc:61.31%,Val.Loss:0.877837,Val.Acc:58.56%\n",
            "Epoch: 12, Idx: 5000, Training Loss:  0.7995, Training Accuracy:  62.50%\n",
            "Epoch: 12, Idx: 10000, Training Loss:  0.8152, Training Accuracy:  53.12%\n",
            "Epoch: 12, Idx: 15000, Training Loss:  0.8062, Training Accuracy:  59.38%\n",
            "Epoch:12,Train Loss:0.841,Train Acc:61.61%,Val.Loss:0.872108,Val.Acc:58.73%\n",
            "Epoch: 13, Idx: 5000, Training Loss:  0.7427, Training Accuracy:  71.88%\n",
            "Epoch: 13, Idx: 10000, Training Loss:  0.7463, Training Accuracy:  71.88%\n",
            "Epoch: 13, Idx: 15000, Training Loss:  0.8076, Training Accuracy:  62.50%\n",
            "Epoch:13,Train Loss:0.836,Train Acc:61.91%,Val.Loss:0.877278,Val.Acc:58.34%\n",
            "Epoch: 14, Idx: 5000, Training Loss:  0.8316, Training Accuracy:  62.50%\n",
            "Epoch: 14, Idx: 10000, Training Loss:  0.8940, Training Accuracy:  65.62%\n",
            "Epoch: 14, Idx: 15000, Training Loss:  0.7398, Training Accuracy:  65.62%\n",
            "Epoch:14,Train Loss:0.831,Train Acc:62.22%,Val.Loss:0.871784,Val.Acc:59.19%\n",
            "Epoch: 15, Idx: 5000, Training Loss:  0.8084, Training Accuracy:  59.38%\n",
            "Epoch: 15, Idx: 10000, Training Loss:  0.7199, Training Accuracy:  71.88%\n",
            "Epoch: 15, Idx: 15000, Training Loss:  0.7802, Training Accuracy:  65.62%\n",
            "Epoch:15,Train Loss:0.827,Train Acc:62.54%,Val.Loss:0.879534,Val.Acc:58.64%\n",
            "Epoch: 16, Idx: 5000, Training Loss:  0.8106, Training Accuracy:  71.88%\n",
            "Epoch: 16, Idx: 10000, Training Loss:  0.8770, Training Accuracy:  59.38%\n",
            "Epoch: 16, Idx: 15000, Training Loss:  0.9825, Training Accuracy:  53.12%\n",
            "Epoch:16,Train Loss:0.823,Train Acc:62.76%,Val.Loss:0.876219,Val.Acc:58.93%\n",
            "Epoch: 17, Idx: 5000, Training Loss:  0.7772, Training Accuracy:  62.50%\n",
            "Epoch: 17, Idx: 10000, Training Loss:  0.6840, Training Accuracy:  68.75%\n",
            "Epoch: 17, Idx: 15000, Training Loss:  0.7418, Training Accuracy:  78.12%\n",
            "Epoch:17,Train Loss:0.819,Train Acc:62.97%,Val.Loss:0.877336,Val.Acc:58.96%\n",
            "Epoch: 18, Idx: 5000, Training Loss:  0.7190, Training Accuracy:  59.38%\n",
            "Epoch: 18, Idx: 10000, Training Loss:  0.8075, Training Accuracy:  62.50%\n",
            "Epoch: 18, Idx: 15000, Training Loss:  0.8961, Training Accuracy:  50.00%\n",
            "Epoch:18,Train Loss:0.815,Train Acc:63.17%,Val.Loss:0.877809,Val.Acc:58.28%\n",
            "Epoch: 19, Idx: 5000, Training Loss:  0.7529, Training Accuracy:  68.75%\n",
            "Epoch: 19, Idx: 10000, Training Loss:  0.8869, Training Accuracy:  56.25%\n",
            "Epoch: 19, Idx: 15000, Training Loss:  0.8524, Training Accuracy:  65.62%\n",
            "Epoch:19,Train Loss:0.812,Train Acc:63.43%,Val.Loss:0.887179,Val.Acc:58.44%\n",
            "Epoch: 20, Idx: 5000, Training Loss:  0.6822, Training Accuracy:  68.75%\n",
            "Epoch: 20, Idx: 10000, Training Loss:  0.8184, Training Accuracy:  71.88%\n",
            "Epoch: 20, Idx: 15000, Training Loss:  0.8831, Training Accuracy:  59.38%\n",
            "Epoch:20,Train Loss:0.808,Train Acc:63.66%,Val.Loss:0.882056,Val.Acc:58.75%\n",
            "Epoch: 21, Idx: 5000, Training Loss:  0.7164, Training Accuracy:  71.88%\n",
            "Epoch: 21, Idx: 10000, Training Loss:  0.7923, Training Accuracy:  65.62%\n",
            "Epoch: 21, Idx: 15000, Training Loss:  0.7631, Training Accuracy:  65.62%\n",
            "Epoch:21,Train Loss:0.805,Train Acc:63.81%,Val.Loss:0.884702,Val.Acc:58.88%\n",
            "Epoch: 22, Idx: 5000, Training Loss:  0.8302, Training Accuracy:  62.50%\n",
            "Epoch: 22, Idx: 10000, Training Loss:  0.7947, Training Accuracy:  65.62%\n",
            "Epoch: 22, Idx: 15000, Training Loss:  0.7648, Training Accuracy:  65.62%\n",
            "Epoch:22,Train Loss:0.802,Train Acc:63.98%,Val.Loss:0.899858,Val.Acc:58.01%\n",
            "Epoch: 23, Idx: 5000, Training Loss:  0.8241, Training Accuracy:  59.38%\n",
            "Epoch: 23, Idx: 10000, Training Loss:  0.8983, Training Accuracy:  59.38%\n",
            "Epoch: 23, Idx: 15000, Training Loss:  0.7981, Training Accuracy:  65.62%\n",
            "Epoch:23,Train Loss:0.799,Train Acc:64.19%,Val.Loss:0.891212,Val.Acc:58.87%\n",
            "Epoch: 24, Idx: 5000, Training Loss:  0.7533, Training Accuracy:  68.75%\n",
            "Epoch: 24, Idx: 10000, Training Loss:  0.7682, Training Accuracy:  65.62%\n",
            "Epoch: 24, Idx: 15000, Training Loss:  0.7468, Training Accuracy:  68.75%\n",
            "Epoch:24,Train Loss:0.796,Train Acc:64.29%,Val.Loss:0.893162,Val.Acc:58.36%\n",
            "Epoch: 25, Idx: 5000, Training Loss:  0.7817, Training Accuracy:  62.50%\n",
            "Epoch: 25, Idx: 10000, Training Loss:  0.7804, Training Accuracy:  68.75%\n",
            "Epoch: 25, Idx: 15000, Training Loss:  0.7289, Training Accuracy:  75.00%\n",
            "Epoch:25,Train Loss:0.793,Train Acc:64.52%,Val.Loss:0.892853,Val.Acc:58.69%\n",
            "Epoch: 26, Idx: 5000, Training Loss:  0.6541, Training Accuracy:  68.75%\n",
            "Epoch: 26, Idx: 10000, Training Loss:  0.9282, Training Accuracy:  62.50%\n",
            "Epoch: 26, Idx: 15000, Training Loss:  0.8043, Training Accuracy:  62.50%\n",
            "Epoch:26,Train Loss:0.790,Train Acc:64.61%,Val.Loss:0.896071,Val.Acc:58.69%\n",
            "Epoch: 27, Idx: 5000, Training Loss:  0.5584, Training Accuracy:  78.12%\n",
            "Epoch: 27, Idx: 10000, Training Loss:  0.8514, Training Accuracy:  65.62%\n",
            "Epoch: 27, Idx: 15000, Training Loss:  0.7417, Training Accuracy:  65.62%\n",
            "Epoch:27,Train Loss:0.788,Train Acc:64.86%,Val.Loss:0.914045,Val.Acc:58.61%\n",
            "Epoch: 28, Idx: 5000, Training Loss:  0.7214, Training Accuracy:  68.75%\n",
            "Epoch: 28, Idx: 10000, Training Loss:  1.0309, Training Accuracy:  53.12%\n",
            "Epoch: 28, Idx: 15000, Training Loss:  0.7395, Training Accuracy:  71.88%\n",
            "Epoch:28,Train Loss:0.785,Train Acc:64.96%,Val.Loss:0.899989,Val.Acc:58.41%\n",
            "Epoch: 29, Idx: 5000, Training Loss:  0.9221, Training Accuracy:  59.38%\n",
            "Epoch: 29, Idx: 10000, Training Loss:  0.8213, Training Accuracy:  59.38%\n",
            "Epoch: 29, Idx: 15000, Training Loss:  0.8032, Training Accuracy:  68.75%\n",
            "Epoch:29,Train Loss:0.783,Train Acc:65.09%,Val.Loss:0.903948,Val.Acc:58.05%\n",
            "Epoch: 30, Idx: 5000, Training Loss:  0.9104, Training Accuracy:  68.75%\n",
            "Epoch: 30, Idx: 10000, Training Loss:  0.8525, Training Accuracy:  59.38%\n",
            "Epoch: 30, Idx: 15000, Training Loss:  0.6980, Training Accuracy:  71.88%\n",
            "Epoch:30,Train Loss:0.781,Train Acc:65.24%,Val.Loss:0.901124,Val.Acc:58.43%\n",
            "Epoch: 31, Idx: 5000, Training Loss:  0.8225, Training Accuracy:  62.50%\n",
            "Epoch: 31, Idx: 10000, Training Loss:  0.8640, Training Accuracy:  59.38%\n",
            "Epoch: 31, Idx: 15000, Training Loss:  0.7055, Training Accuracy:  68.75%\n",
            "Epoch:31,Train Loss:0.778,Train Acc:65.35%,Val.Loss:0.906120,Val.Acc:58.18%\n",
            "Epoch: 32, Idx: 5000, Training Loss:  0.5292, Training Accuracy:  81.25%\n",
            "Epoch: 32, Idx: 10000, Training Loss:  0.6771, Training Accuracy:  71.88%\n",
            "Epoch: 32, Idx: 15000, Training Loss:  0.6330, Training Accuracy:  81.25%\n",
            "Epoch:32,Train Loss:0.776,Train Acc:65.51%,Val.Loss:0.908093,Val.Acc:58.21%\n",
            "Epoch: 33, Idx: 5000, Training Loss:  0.6183, Training Accuracy:  71.88%\n",
            "Epoch: 33, Idx: 10000, Training Loss:  0.7957, Training Accuracy:  78.12%\n",
            "Epoch: 33, Idx: 15000, Training Loss:  0.8153, Training Accuracy:  65.62%\n",
            "Epoch:33,Train Loss:0.774,Train Acc:65.63%,Val.Loss:0.911480,Val.Acc:58.23%\n",
            "Epoch: 34, Idx: 5000, Training Loss:  0.6368, Training Accuracy:  75.00%\n",
            "Epoch: 34, Idx: 10000, Training Loss:  0.8182, Training Accuracy:  62.50%\n",
            "Epoch: 34, Idx: 15000, Training Loss:  0.6655, Training Accuracy:  78.12%\n",
            "Epoch:34,Train Loss:0.772,Train Acc:65.73%,Val.Loss:0.920943,Val.Acc:57.69%\n",
            "Epoch: 35, Idx: 5000, Training Loss:  0.5758, Training Accuracy:  81.25%\n",
            "Epoch: 35, Idx: 10000, Training Loss:  0.8168, Training Accuracy:  71.88%\n",
            "Epoch: 35, Idx: 15000, Training Loss:  0.7888, Training Accuracy:  78.12%\n",
            "Epoch:35,Train Loss:0.770,Train Acc:65.84%,Val.Loss:0.918319,Val.Acc:58.07%\n",
            "Epoch: 36, Idx: 5000, Training Loss:  0.8354, Training Accuracy:  59.38%\n",
            "Epoch: 36, Idx: 10000, Training Loss:  0.7696, Training Accuracy:  62.50%\n",
            "Epoch: 36, Idx: 15000, Training Loss:  0.8133, Training Accuracy:  68.75%\n",
            "Epoch:36,Train Loss:0.768,Train Acc:65.97%,Val.Loss:0.918781,Val.Acc:58.22%\n",
            "Epoch: 37, Idx: 5000, Training Loss:  0.7566, Training Accuracy:  71.88%\n",
            "Epoch: 37, Idx: 10000, Training Loss:  0.7221, Training Accuracy:  71.88%\n",
            "Epoch: 37, Idx: 15000, Training Loss:  0.8115, Training Accuracy:  68.75%\n",
            "Epoch:37,Train Loss:0.766,Train Acc:66.02%,Val.Loss:0.920569,Val.Acc:57.94%\n",
            "Epoch: 38, Idx: 5000, Training Loss:  0.6275, Training Accuracy:  75.00%\n",
            "Epoch: 38, Idx: 10000, Training Loss:  0.8208, Training Accuracy:  68.75%\n",
            "Epoch: 38, Idx: 15000, Training Loss:  0.7582, Training Accuracy:  68.75%\n",
            "Epoch:38,Train Loss:0.765,Train Acc:66.13%,Val.Loss:0.921256,Val.Acc:57.51%\n",
            "Epoch: 39, Idx: 5000, Training Loss:  0.5785, Training Accuracy:  78.12%\n",
            "Epoch: 39, Idx: 10000, Training Loss:  0.5399, Training Accuracy:  75.00%\n",
            "Epoch: 39, Idx: 15000, Training Loss:  0.8160, Training Accuracy:  56.25%\n",
            "Epoch:39,Train Loss:0.763,Train Acc:66.23%,Val.Loss:0.935922,Val.Acc:57.69%\n",
            "Epoch: 40, Idx: 5000, Training Loss:  0.8703, Training Accuracy:  65.62%\n",
            "Epoch: 40, Idx: 10000, Training Loss:  0.6791, Training Accuracy:  71.88%\n",
            "Epoch: 40, Idx: 15000, Training Loss:  0.6596, Training Accuracy:  81.25%\n",
            "Epoch:40,Train Loss:0.761,Train Acc:66.33%,Val.Loss:0.938711,Val.Acc:57.13%\n",
            "Test Loss:0.950, Test Acc: 57.02%\n"
          ],
          "name": "stdout"
        }
      ]
    },
    {
      "cell_type": "code",
      "metadata": {
        "id": "Hg5cF5RrNqCh",
        "colab_type": "code",
        "outputId": "e44e50d2-78e0-4218-8584-1c4781985693",
        "colab": {
          "base_uri": "https://localhost:8080/",
          "height": 141
        }
      },
      "source": [
        "''' Let us now predict the class on a single sentence just for the testing purpose. '''\n",
        "test_sen1 = \"Nobody goes to that restaurant.\"\n",
        "test_sen2 = \"It is too crowded.\"\n",
        "\n",
        "test_sen1 = TEXT.preprocess(test_sen1)\n",
        "test_sen1 = [[TEXT.vocab.stoi[x] for x in test_sen1]]\n",
        "\n",
        "test_sen2 = TEXT.preprocess(test_sen2)\n",
        "test_sen2 = [[TEXT.vocab.stoi[x] for x in test_sen2]]\n",
        "\n",
        "premise_sen = np.asarray(test_sen1)\n",
        "premise_sen = torch.LongTensor(premise_sen)\n",
        "premise_tensor = Variable(premise_sen, volatile=True)\n",
        "hypo_sen = np.asarray(test_sen2)\n",
        "hypo_sen = torch.LongTensor(hypo_sen)\n",
        "hypo_tensor = Variable(hypo_sen, volatile=True)\n",
        "size1=premise_tensor[0].size()[0]\n",
        "m=nn.ConstantPad1d((0,50-size1),1)\n",
        "prem_tensor=m(premise_tensor)\n",
        "size2=hypo_tensor[0].size()[0]\n",
        "m=nn.ConstantPad1d((0,50-size2),1)\n",
        "hyp_tensor=m(hypo_tensor)\n",
        "test_tensor=torch.cat([prem_tensor,hyp_tensor],1)\n",
        "test_tensor = test_tensor.cuda()\n",
        "model.eval()\n",
        "output = model(test_tensor)\n",
        "out=F.softmax(output,1)\n",
        "print(out)\n",
        "if(torch.argmax(out[0])==0):\n",
        "  print(\"Entailment\")\n",
        "elif(torch.argmax(out[0])==1):\n",
        "  print(\"Contradiction\")\n",
        "else:\n",
        "  print(\"Neutral\")"
      ],
      "execution_count": 0,
      "outputs": [
        {
          "output_type": "stream",
          "text": [
            "tensor([[0.5776, 0.0649, 0.3576]], device='cuda:0', grad_fn=<SoftmaxBackward>)\n",
            "Entailment\n"
          ],
          "name": "stdout"
        },
        {
          "output_type": "stream",
          "text": [
            "/usr/local/lib/python3.6/dist-packages/ipykernel_launcher.py:13: UserWarning: volatile was removed and now has no effect. Use `with torch.no_grad():` instead.\n",
            "  del sys.path[0]\n",
            "/usr/local/lib/python3.6/dist-packages/ipykernel_launcher.py:16: UserWarning: volatile was removed and now has no effect. Use `with torch.no_grad():` instead.\n",
            "  app.launch_new_instance()\n"
          ],
          "name": "stderr"
        }
      ]
    },
    {
      "cell_type": "code",
      "metadata": {
        "id": "GQ_fiTnWU_tr",
        "colab_type": "code",
        "outputId": "793b018b-1a8e-466b-9586-538abc7e4f71",
        "colab": {
          "base_uri": "https://localhost:8080/",
          "height": 156
        }
      },
      "source": [
        "\"\"\"Viewing the architecture of our model\"\"\"\n",
        "model.eval()"
      ],
      "execution_count": 0,
      "outputs": [
        {
          "output_type": "execute_result",
          "data": {
            "text/plain": [
              "CNN(\n",
              "  (word_embeddings): Embedding(56220, 100)\n",
              "  (conv1): Conv2d(1, 50, kernel_size=(10, 10), stride=(2, 2))\n",
              "  (pool): AvgPool2d(kernel_size=1, stride=2, padding=0)\n",
              "  (conv2): Conv2d(50, 100, kernel_size=(5, 5), stride=(2, 2))\n",
              "  (AdapAvgPool): AdaptiveAvgPool2d(output_size=(1, 1))\n",
              "  (fc1): Linear(in_features=100, out_features=3, bias=True)\n",
              ")"
            ]
          },
          "metadata": {
            "tags": []
          },
          "execution_count": 168
        }
      ]
    },
    {
      "cell_type": "code",
      "metadata": {
        "id": "TH17_kGxcfEp",
        "colab_type": "code",
        "colab": {}
      },
      "source": [
        "\"\"\"Creating a hook and saving particular layer features\"\"\"\n",
        "class SaveFeatures():\n",
        "  features=None\n",
        "  def __init__(self,m):self.hook=m.register_forward_hook(self.hook_fn)\n",
        "  def hook_fn(self,module,input,output): self.features=((output.cpu()).data).numpy()\n",
        "  def remove(self): self.hook.remove()\n"
      ],
      "execution_count": 0,
      "outputs": []
    },
    {
      "cell_type": "code",
      "metadata": {
        "id": "WTXmAlDKce8p",
        "colab_type": "code",
        "colab": {}
      },
      "source": [
        "\"\"\"Obtaining the layer needed\"\"\"\n",
        "final_layer=model._modules.get('conv2')"
      ],
      "execution_count": 0,
      "outputs": []
    },
    {
      "cell_type": "code",
      "metadata": {
        "id": "_FXBJWkqce5a",
        "colab_type": "code",
        "colab": {}
      },
      "source": [
        "\"\"\"Saving the feature of the layer needed\"\"\"\n",
        "activated_features=SaveFeatures(final_layer)"
      ],
      "execution_count": 0,
      "outputs": []
    },
    {
      "cell_type": "code",
      "metadata": {
        "id": "wUAoYGhpce37",
        "colab_type": "code",
        "outputId": "306a0628-5353-4d2b-fe3b-2a481fe0823e",
        "colab": {
          "base_uri": "https://localhost:8080/",
          "height": 72
        }
      },
      "source": [
        "\"\"\"Making the prediction and obtaining the layer features in that case\"\"\"\n",
        "prediction=model(test_tensor)\n",
        "pred_probabilities=F.softmax(prediction).data.squeeze()\n",
        "activated_features.remove()"
      ],
      "execution_count": 0,
      "outputs": [
        {
          "output_type": "stream",
          "text": [
            "/usr/local/lib/python3.6/dist-packages/ipykernel_launcher.py:2: UserWarning: Implicit dimension choice for softmax has been deprecated. Change the call to include dim=X as an argument.\n",
            "  \n"
          ],
          "name": "stderr"
        }
      ]
    },
    {
      "cell_type": "code",
      "metadata": {
        "id": "p4eK1gdzce1_",
        "colab_type": "code",
        "outputId": "8fe3cfb2-82d0-42dd-a329-00ca9f6ff2fe",
        "colab": {
          "base_uri": "https://localhost:8080/",
          "height": 34
        }
      },
      "source": [
        "topk(pred_probabilities,1)"
      ],
      "execution_count": 0,
      "outputs": [
        {
          "output_type": "execute_result",
          "data": {
            "text/plain": [
              "torch.return_types.topk(values=tensor([0.8476], device='cuda:0'), indices=tensor([2], device='cuda:0'))"
            ]
          },
          "metadata": {
            "tags": []
          },
          "execution_count": 173
        }
      ]
    },
    {
      "cell_type": "code",
      "metadata": {
        "id": "mTAQsfqHceyB",
        "colab_type": "code",
        "colab": {}
      },
      "source": [
        "\"\"\"Obatining our final heatmap from the features by dot producting the weights and activation maps\"\"\"\n",
        "def getCAM(feature_conv, weight_fc, class_idx):\n",
        "  _,nc,h,w=feature_conv.shape\n",
        "  cam=weight_fc[class_idx.cpu()].dot(feature_conv.reshape(((nc,h*w))))\n",
        "  cam=cam.reshape(h,w)\n",
        "  #cam=cam-np.min(cam)\n",
        "  #cam_img=cam/np.max(cam)\n",
        "  return [cam]"
      ],
      "execution_count": 0,
      "outputs": []
    },
    {
      "cell_type": "code",
      "metadata": {
        "id": "nClocPJwceu2",
        "colab_type": "code",
        "colab": {}
      },
      "source": [
        "weight_softmax_params=list(model._modules.get('fc1').parameters())\n",
        "weight_softmax=np.squeeze(weight_softmax_params[0].cpu().data.numpy())"
      ],
      "execution_count": 0,
      "outputs": []
    },
    {
      "cell_type": "code",
      "metadata": {
        "id": "dy34u_TnlSm0",
        "colab_type": "code",
        "outputId": "2a79a1a4-6ee1-4bcc-d132-98751e073786",
        "colab": {
          "base_uri": "https://localhost:8080/",
          "height": 34
        }
      },
      "source": [
        "activated_features.features.shape"
      ],
      "execution_count": 0,
      "outputs": [
        {
          "output_type": "execute_result",
          "data": {
            "text/plain": [
              "(1, 100, 10, 10)"
            ]
          },
          "metadata": {
            "tags": []
          },
          "execution_count": 176
        }
      ]
    },
    {
      "cell_type": "markdown",
      "metadata": {
        "id": "q6dTCIL2lSQ4",
        "colab_type": "text"
      },
      "source": [
        ""
      ]
    },
    {
      "cell_type": "code",
      "metadata": {
        "id": "NI-zzns2cere",
        "colab_type": "code",
        "colab": {}
      },
      "source": [
        "class_idx=topk(pred_probabilities,1)[1].int()"
      ],
      "execution_count": 0,
      "outputs": []
    },
    {
      "cell_type": "code",
      "metadata": {
        "id": "WiaD4_DHc8Q7",
        "colab_type": "code",
        "colab": {}
      },
      "source": [
        "overlay=getCAM(activated_features.features, weight_softmax, class_idx)"
      ],
      "execution_count": 0,
      "outputs": []
    },
    {
      "cell_type": "code",
      "metadata": {
        "id": "6Wzrq5AJc8MF",
        "colab_type": "code",
        "outputId": "e692c1a2-f5de-4bd6-dd2e-251c590b8653",
        "colab": {
          "base_uri": "https://localhost:8080/",
          "height": 286
        }
      },
      "source": [
        "\"\"\"Plotting the map obtained\"\"\"\n",
        "imshow(overlay[0], alpha=0.4, cmap='jet')"
      ],
      "execution_count": 0,
      "outputs": [
        {
          "output_type": "execute_result",
          "data": {
            "text/plain": [
              "<matplotlib.image.AxesImage at 0x7fed0eb800f0>"
            ]
          },
          "metadata": {
            "tags": []
          },
          "execution_count": 179
        },
        {
          "output_type": "display_data",
          "data": {
            "image/png": "[encoded data removed]",
            "text/plain": [
              "<Figure size 432x288 with 1 Axes>"
            ]
          },
          "metadata": {
            "tags": []
          }
        }
      ]
    },
    {
      "cell_type": "code",
      "metadata": {
        "id": "ByAOzC53c8KF",
        "colab_type": "code",
        "outputId": "a5de2887-f872-47ba-b999-55d47ee75f74",
        "colab": {
          "base_uri": "https://localhost:8080/",
          "height": 286
        }
      },
      "source": [
        "\"\"\"Plotting the similar heatmap resized to 100*100\"\"\"\n",
        "imshow(skimage.transform.resize(overlay[0], [100,100]),alpha=0.6, cmap='jet')"
      ],
      "execution_count": 0,
      "outputs": [
        {
          "output_type": "execute_result",
          "data": {
            "text/plain": [
              "<matplotlib.image.AxesImage at 0x7fed0d4881d0>"
            ]
          },
          "metadata": {
            "tags": []
          },
          "execution_count": 180
        },
        {
          "output_type": "display_data",
          "data": {
            "image/png": "[encoded data removed]",
            "text/plain": [
              "<Figure size 432x288 with 1 Axes>"
            ]
          },
          "metadata": {
            "tags": []
          }
        }
      ]
    },
    {
      "cell_type": "code",
      "metadata": {
        "id": "Meb_RIZVdHlF",
        "colab_type": "code",
        "colab": {}
      },
      "source": [
        ""
      ],
      "execution_count": 0,
      "outputs": []
    }
  ]
}